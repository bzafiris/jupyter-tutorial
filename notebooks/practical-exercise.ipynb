{
 "cells": [
  {
   "cell_type": "markdown",
   "metadata": {},
   "source": [
    "# Practical exercise: Restaurant tips dataset\n",
    "\n",
    "Fill the empty cells with appropriate code snippets that do the requested processing.\n",
    "The dataset that will be used in this exercise is available in the `/home/jovyan/data/tips.csv`.\n",
    "You can find information on the dataset in the folllowing file: `/data/README.md`.\n"
   ]
  },
  {
   "cell_type": "markdown",
   "metadata": {},
   "source": [
    "## Data loading\n",
    "\n",
    "Load data from CSV text file and save it in variable `tips`.\n",
    "You can use `pd.read_csv()` function for this purpose.\n",
    "You can inspect loaded data by inserting as last cell command the following: `tips.head()`"
   ]
  },
  {
   "cell_type": "code",
   "execution_count": 1,
   "metadata": {},
   "outputs": [],
   "source": [
    "# Insert your code in this cell "
   ]
  },
  {
   "cell_type": "markdown",
   "metadata": {},
   "source": [
    "## Resize dataset\n",
    "\n",
    "Drop column `obs` and inspect the resulting dataframe with `tips.head()`."
   ]
  },
  {
   "cell_type": "code",
   "execution_count": 2,
   "metadata": {},
   "outputs": [],
   "source": [
    "# Insert your code here"
   ]
  },
  {
   "cell_type": "markdown",
   "metadata": {},
   "source": [
    "## Top tips by gender\n",
    "\n",
    "Create a dataframe with female customers and one with male customers.\n",
    "Find the top-5 tips for each subset. You can sort a dataframe with function `df.sort_values(by=column_list, ascending=boolean)`"
   ]
  },
  {
   "cell_type": "code",
   "execution_count": 3,
   "metadata": {},
   "outputs": [],
   "source": [
    "# Insert your code here"
   ]
  },
  {
   "cell_type": "markdown",
   "metadata": {},
   "source": [
    "## Minimum, maximum and average tip and bill for each gender\n",
    "\n",
    "Calculate the minimum, maximum and average tip and bill for each gender by calling appropriate functions on the dataframes that you have created before."
   ]
  },
  {
   "cell_type": "code",
   "execution_count": 4,
   "metadata": {},
   "outputs": [],
   "source": [
    "# Insert code for tips by male customers dataframe"
   ]
  },
  {
   "cell_type": "code",
   "execution_count": 5,
   "metadata": {},
   "outputs": [],
   "source": [
    "# Insert code for tips by female customers dataframe\n"
   ]
  },
  {
   "cell_type": "markdown",
   "metadata": {},
   "source": [
    "## Average and maximum tip per day and lunch time\n",
    "\n",
    "For the entire tips dataset calculate the average and maximum tip per combination of day and lunch time."
   ]
  },
  {
   "cell_type": "code",
   "execution_count": 6,
   "metadata": {},
   "outputs": [],
   "source": [
    "# Insert your code here"
   ]
  },
  {
   "cell_type": "markdown",
   "metadata": {},
   "source": [
    "## Plot the average tip for each day of the week\n",
    "\n",
    "Find the average tip for each day of the week and make a bar plot with it.\n",
    "You can create a bar plot by calling `df.plot.bar()` on the dataframe."
   ]
  },
  {
   "cell_type": "code",
   "execution_count": 7,
   "metadata": {},
   "outputs": [],
   "source": [
    "# Insert your code here"
   ]
  }
 ],
 "metadata": {
  "kernelspec": {
   "display_name": "Python 3 (ipykernel)",
   "language": "python",
   "name": "python3"
  },
  "language_info": {
   "codemirror_mode": {
    "name": "ipython",
    "version": 3
   },
   "file_extension": ".py",
   "mimetype": "text/x-python",
   "name": "python",
   "nbconvert_exporter": "python",
   "pygments_lexer": "ipython3",
   "version": "3.11.9"
  }
 },
 "nbformat": 4,
 "nbformat_minor": 4
}
